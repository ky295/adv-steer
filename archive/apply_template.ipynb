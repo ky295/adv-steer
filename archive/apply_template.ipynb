{
 "cells": [
  {
   "cell_type": "code",
   "execution_count": 5,
   "metadata": {},
   "outputs": [
    {
     "name": "stdout",
     "output_type": "stream",
     "text": [
      "CUDA available: True\n"
     ]
    }
   ],
   "source": [
    "import os\n",
    "import torch\n",
    "from transformers import AutoModelForCausalLM, AutoTokenizer\n",
    "from datasets import load_dataset\n",
    "from tqdm import tqdm\n",
    "import csv\n",
    "import gc\n",
    "\n",
    "os.environ['CUDA_VISIBLE_DEVICES'] = '0'\n",
    "\n",
    "print(f\"CUDA available: {torch.cuda.is_available()}\")\n",
    "\n",
    "gc.collect()\n",
    "torch.cuda.empty_cache()"
   ]
  },
  {
   "cell_type": "markdown",
   "metadata": {},
   "source": [
    "## Util functions"
   ]
  },
  {
   "cell_type": "code",
   "execution_count": 2,
   "metadata": {},
   "outputs": [],
   "source": [
    "\n",
    "max_new_tokens = 1024\n",
    "device = \"cuda\" if torch.cuda.is_available() else \"cpu\"\n",
    "output_csv = \"../dataset/strongreject_reasoning_template.csv\"\n",
    "\n",
    "\n",
    "def load_model(device):\n",
    "    \"\"\"Load the DeepSeek-R1-Distill-Llama-8B model and tokenizer\"\"\"\n",
    "    print(\"Loading DeepSeek-R1-Distill-Llama-8B model and tokenizer...\")\n",
    "    model_name = \"deepseek-ai/DeepSeek-R1-Distill-Llama-8B\"\n",
    "    tokenizer = AutoTokenizer.from_pretrained(model_name)\n",
    "    model = AutoModelForCausalLM.from_pretrained(\n",
    "        model_name,\n",
    "        torch_dtype=torch.float16 if device == \"cuda\" else torch.float32,\n",
    "        low_cpu_mem_usage=True,\n",
    "    )\n",
    "    model.to(device)\n",
    "    model.eval()\n",
    "    return model, tokenizer\n",
    "\n",
    "\n",
    "def read_prompts():\n",
    "    \"\"\"Read prompts from the HuggingFace dataset\"\"\"\n",
    "    strongreject_dataset = load_dataset(\"csv\", data_files=\"https://raw.githubusercontent.com/alexandrasouly/strongreject/main/strongreject_dataset/strongreject_dataset.csv\")\n",
    "    train_dataset = strongreject_dataset['train']\n",
    "    \n",
    "    if \"forbidden_prompt\" not in train_dataset.column_names:\n",
    "        raise ValueError(f\"Column not found in dataset. Available columns: {train_dataset.column_names}\")\n",
    "    \n",
    "    prompts = train_dataset[\"forbidden_prompt\"]\n",
    "    return prompts\n",
    "\n",
    "\n",
    "def process_prompts(model, tokenizer, prompts, max_new_tokens):\n",
    "    \"\"\"Process prompts through the model and return outputs\"\"\"\n",
    "    results = []\n",
    "    for prompt in tqdm(prompts):\n",
    "        chat = [{\"role\": \"user\", \"content\": prompt}]\n",
    "        # Get tokenized chat format without converting to tensor yet\n",
    "        raw_tokenized_chat = tokenizer.apply_chat_template(chat, add_generation_prompt=True)\n",
    "        \n",
    "        # # Print the decoded tokenized chat for debugging\n",
    "        # decoded_chat = tokenizer.decode(raw_tokenized_chat)\n",
    "        # print(\"=\"*50)\n",
    "        # print(\"DECODED CHAT:\")\n",
    "        # print(decoded_chat)\n",
    "        # print(\"=\"*50)\n",
    "        \n",
    "        # Now convert to tensor for model input\n",
    "        tokenized_chat = torch.tensor([raw_tokenized_chat]).to(device)\n",
    "        with torch.no_grad():\n",
    "            output_ids = model.generate(\n",
    "                tokenized_chat,\n",
    "                max_new_tokens=max_new_tokens,\n",
    "                do_sample=False, # Use greedy decoding\n",
    "                pad_token_id=tokenizer.eos_token_id\n",
    "            )\n",
    "            \n",
    "            # Decode the generated output\n",
    "            response = tokenizer.decode(output_ids[0][len(raw_tokenized_chat):], skip_special_tokens=True)\n",
    "            results.append({\n",
    "                \"prompt\": prompt,\n",
    "                \"response\": response\n",
    "            })\n",
    "    return results\n",
    "\n",
    "\n",
    "def save_results(results, output_csv):\n",
    "    \"\"\"Save input-output pairs to the output CSV file\"\"\"\n",
    "    os.makedirs(os.path.dirname(os.path.abspath(output_csv)), exist_ok=True)\n",
    "    with open(output_csv, 'w', encoding='utf-8', newline='') as f:\n",
    "        writer = csv.DictWriter(f, fieldnames=[\"prompt\", \"response\"])\n",
    "        writer.writeheader()\n",
    "        writer.writerows(results)\n",
    "    print(f\"Results saved to {output_csv}\")\n"
   ]
  },
  {
   "cell_type": "code",
   "execution_count": null,
   "metadata": {},
   "outputs": [],
   "source": [
    "\n",
    "# Load model and tokenizer\n",
    "model, tokenizer = load_model(device)\n",
    "# Read prompts from HuggingFace dataset\n",
    "prompts = read_prompts()\n",
    "print(f\"Loaded {len(prompts)} prompts from strong_reject dataset\")\n",
    "# Process prompts through the model\n",
    "results = process_prompts(model, tokenizer, prompts, max_new_tokens)\n",
    "# Save results to output CSV\n",
    "save_results(results, output_csv)"
   ]
  }
 ],
 "metadata": {
  "kernelspec": {
   "display_name": "venv",
   "language": "python",
   "name": "python3"
  },
  "language_info": {
   "codemirror_mode": {
    "name": "ipython",
    "version": 3
   },
   "file_extension": ".py",
   "mimetype": "text/x-python",
   "name": "python",
   "nbconvert_exporter": "python",
   "pygments_lexer": "ipython3",
   "version": "3.10.12"
  }
 },
 "nbformat": 4,
 "nbformat_minor": 2
}
