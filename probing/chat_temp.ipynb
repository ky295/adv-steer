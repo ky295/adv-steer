{
 "cells": [
  {
   "cell_type": "code",
   "execution_count": 16,
   "metadata": {},
   "outputs": [
    {
     "name": "stdout",
     "output_type": "stream",
     "text": [
      "CUDA available: True\n",
      "Loading DeepSeek-R1-Distill-Llama-8B model and tokenizer...\n"
     ]
    },
    {
     "data": {
      "application/vnd.jupyter.widget-view+json": {
       "model_id": "9a756d6171cb4aae83ba6bcfdc3fbda0",
       "version_major": 2,
       "version_minor": 0
      },
      "text/plain": [
       "Loading checkpoint shards:   0%|          | 0/2 [00:00<?, ?it/s]"
      ]
     },
     "metadata": {},
     "output_type": "display_data"
    },
    {
     "name": "stdout",
     "output_type": "stream",
     "text": [
      "<｜begin▁of▁sentence｜><｜User｜>hello<｜Assistant｜><think>\n",
      "ok\n"
     ]
    }
   ],
   "source": [
    "from transformers import AutoModelForCausalLM, AutoTokenizer\n",
    "import torch\n",
    "import os\n",
    "\n",
    "def load_model(device):\n",
    "    \"\"\"Load the DeepSeek-R1-Distill-Llama-8B model and tokenizer\"\"\"\n",
    "    print(\"Loading DeepSeek-R1-Distill-Llama-8B model and tokenizer...\")\n",
    "    model_name = \"deepseek-ai/DeepSeek-R1-Distill-Llama-8B\"\n",
    "    tokenizer = AutoTokenizer.from_pretrained(model_name)\n",
    "    model = AutoModelForCausalLM.from_pretrained(\n",
    "        model_name,\n",
    "        torch_dtype=torch.float16 if device == \"cuda\" else torch.float32,\n",
    "        low_cpu_mem_usage=True,\n",
    "    )\n",
    "    model.to(device)\n",
    "    model.eval()\n",
    "    return model, tokenizer\n",
    "\n",
    "# def apply_chat_template(prompt, tokenizer, device):\n",
    "#     chat = [{\"role\": \"user\", \"content\": prompt}]\n",
    "#     raw_tokenized_chat = tokenizer.apply_chat_template(chat, add_generation_prompt=True)\n",
    "#     tokenized_chat = torch.tensor([raw_tokenized_chat]).to(device)\n",
    "#     return tokenized_chat\n",
    "\n",
    "os.environ['CUDA_VISIBLE_DEVICES'] = '0'\n",
    "print(f\"CUDA available: {torch.cuda.is_available()}\")\n",
    "\n",
    "model, tokenizer = load_model(\"cuda\")\n",
    "input_text = \"hello\"\n",
    "response = \"ok\"\n",
    "chat = [{\"role\": \"user\", \"content\": input_text}]\n",
    "tokenized_chat = tokenizer.apply_chat_template(chat, add_generation_prompt=True, return_tensors=\"pt\")\n",
    "templated_text = tokenizer.decode(tokenized_chat[0])\n",
    "joint_text = templated_text + response\n",
    "generated_text = tokenizer.decode(t, skip_special_tokens=False)\n",
    "print(joint_text)"
   ]
  }
 ],
 "metadata": {
  "kernelspec": {
   "display_name": "venv",
   "language": "python",
   "name": "python3"
  },
  "language_info": {
   "codemirror_mode": {
    "name": "ipython",
    "version": 3
   },
   "file_extension": ".py",
   "mimetype": "text/x-python",
   "name": "python",
   "nbconvert_exporter": "python",
   "pygments_lexer": "ipython3",
   "version": "3.10.12"
  }
 },
 "nbformat": 4,
 "nbformat_minor": 2
}
