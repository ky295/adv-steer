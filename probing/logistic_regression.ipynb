{
 "cells": [
  {
   "cell_type": "code",
   "execution_count": 6,
   "metadata": {},
   "outputs": [],
   "source": [
    "import numpy as np\n",
    "import pandas as pd\n",
    "from sklearn.linear_model import LogisticRegression\n",
    "from sklearn.model_selection import train_test_split\n",
    "from sklearn.metrics import accuracy_score, classification_report, confusion_matrix\n",
    "import matplotlib.pyplot as plt\n",
    "import seaborn as sns\n",
    "%matplotlib inline  \n",
    "\n",
    "def create_paired_dataset(input_file, output_file=None, label=None):\n",
    "    # Load the original matrix\n",
    "    x = np.load(input_file)\n",
    "    if label == 0:\n",
    "        y = np.zeros(x.shape[0], dtype=int)\n",
    "    elif label == 1:\n",
    "        y = np.ones(x.shape[0], dtype=int)\n",
    "    \n",
    "    # Create the paired dataset\n",
    "    paired_dataset = (x, y)\n",
    "    \n",
    "    # Optionally save the paired dataset\n",
    "    if output_file:\n",
    "        np.save(output_file, paired_dataset)\n",
    "    \n",
    "    return paired_dataset"
   ]
  },
  {
   "cell_type": "markdown",
   "metadata": {},
   "source": [
    "## Load datasets"
   ]
  },
  {
   "cell_type": "code",
   "execution_count": 9,
   "metadata": {},
   "outputs": [],
   "source": [
    "layer = 19\n",
    "cautious_x, cautious_y = create_paired_dataset(f\"../activations/baseline/deepseek_layer_{layer}_cautious_activations.npy\", label=0)\n",
    "non_cautious_x, non_cautious_y = create_paired_dataset(f\"../activations/baseline/deepseek_layer_{layer}_noncautious_activations.npy\", label=1)\n"
   ]
  },
  {
   "cell_type": "markdown",
   "metadata": {},
   "source": [
    "## Create train-test sets for logistic classfier"
   ]
  },
  {
   "cell_type": "code",
   "execution_count": 10,
   "metadata": {},
   "outputs": [
    {
     "name": "stdout",
     "output_type": "stream",
     "text": [
      "[[-0.02235496  0.04792278  0.04108952 ...  0.11320061 -0.01909968\n",
      "  -0.02663311]\n",
      " [-0.02235496  0.04792278  0.04108952 ...  0.11320061 -0.01909968\n",
      "  -0.02663311]\n",
      " [-0.02235496  0.04792278  0.04108952 ...  0.11320061 -0.01909968\n",
      "  -0.02663311]\n",
      " ...\n",
      " [-0.02235496  0.04792278  0.04108952 ...  0.11320061 -0.01909968\n",
      "  -0.02663311]\n",
      " [-0.02235496  0.04792278  0.04108952 ...  0.11320061 -0.01909968\n",
      "  -0.02663311]\n",
      " [-0.02235496  0.04792278  0.04108952 ...  0.11320061 -0.01909968\n",
      "  -0.02663311]]\n",
      "[0 0 1 0 0 0 0 0 1 1 0 1 1 0 1 1 1 0 0 0 1 1 0 0 1 1 1 1 1 0 1 1 0 1 1 1 0\n",
      " 0 1 0 0 0 1 0 0 0 1 0 1 1 1 1 1 1 1 1 1 1 0 0 0 1 0 0 0 0 0 1 0 0 0 1 1 1\n",
      " 1 1 0 1 1 0 0 0 1 1 1 1 0 0 1 1 1 1 1 1 0 1 1 0 1 0 1 1 1 1 0 0 1 0 0 0 1\n",
      " 0 0 0 0 1 0 1 0 1 1 1 0 0 0 1 0 0 0 1 1 0 1 0 1 0 1 1 0 0 1 1 0 0 0 1 1 1\n",
      " 0 1 0 0 0 0 0 1 0 0 1 1 1 1 1 0 1 1 0 0 1 0 0 1 1 1 0 0 0 1 0 1 0 0 1 0 1\n",
      " 0 0 1 0 0 0 0 1 1 0 1 0 1 0 1 0 0 1 1 1 0 0 1 0 0 0 1]\n",
      "Training set size: 159 samples\n",
      "Test set size: 53 samples\n",
      "Feature vector size: 4096 dimensions\n",
      "Class distribution in training: [79 80]\n",
      "Class distribution in testing: [27 26]\n"
     ]
    }
   ],
   "source": [
    "X = np.vstack((cautious_x, non_cautious_x))\n",
    "y = np.concatenate((cautious_y, non_cautious_y))\n",
    "\n",
    "# Create a permutation of indices\n",
    "shuffle_indices = np.random.permutation(len(y))\n",
    "# Use these indices to shuffle both X and y in the same way\n",
    "X = X[shuffle_indices]\n",
    "y = y[shuffle_indices]\n",
    "\n",
    "print(X)\n",
    "print(y)\n",
    "\n",
    "# 5. Split into train and test sets (75% train, 25% test)\n",
    "X_train, X_test, y_train, y_test = train_test_split(\n",
    "    X, y, test_size=0.25, random_state=42, stratify=y\n",
    ")\n",
    "\n",
    "print(f\"Training set size: {X_train.shape[0]} samples\")\n",
    "print(f\"Test set size: {X_test.shape[0]} samples\")\n",
    "print(f\"Feature vector size: {X_train.shape[1]} dimensions\")\n",
    "print(f\"Class distribution in training: {np.bincount(y_train)}\")\n",
    "print(f\"Class distribution in testing: {np.bincount(y_test)}\")"
   ]
  },
  {
   "cell_type": "markdown",
   "metadata": {},
   "source": [
    "## Train a logistic classfier"
   ]
  },
  {
   "cell_type": "code",
   "execution_count": 5,
   "metadata": {},
   "outputs": [
    {
     "name": "stdout",
     "output_type": "stream",
     "text": [
      "\n",
      "Accuracy: 0.4906\n",
      "\n",
      "Classification Report:\n",
      "              precision    recall  f1-score   support\n",
      "\n",
      "Non-Cautious       0.00      0.00      0.00        27\n",
      "    Cautious       0.49      1.00      0.66        26\n",
      "\n",
      "    accuracy                           0.49        53\n",
      "   macro avg       0.25      0.50      0.33        53\n",
      "weighted avg       0.24      0.49      0.32        53\n",
      "\n"
     ]
    },
    {
     "name": "stderr",
     "output_type": "stream",
     "text": [
      "/workspace/adv-steer/venv/lib/python3.10/site-packages/sklearn/metrics/_classification.py:1565: UndefinedMetricWarning: Precision is ill-defined and being set to 0.0 in labels with no predicted samples. Use `zero_division` parameter to control this behavior.\n",
      "  _warn_prf(average, modifier, f\"{metric.capitalize()} is\", len(result))\n",
      "/workspace/adv-steer/venv/lib/python3.10/site-packages/sklearn/metrics/_classification.py:1565: UndefinedMetricWarning: Precision is ill-defined and being set to 0.0 in labels with no predicted samples. Use `zero_division` parameter to control this behavior.\n",
      "  _warn_prf(average, modifier, f\"{metric.capitalize()} is\", len(result))\n",
      "/workspace/adv-steer/venv/lib/python3.10/site-packages/sklearn/metrics/_classification.py:1565: UndefinedMetricWarning: Precision is ill-defined and being set to 0.0 in labels with no predicted samples. Use `zero_division` parameter to control this behavior.\n",
      "  _warn_prf(average, modifier, f\"{metric.capitalize()} is\", len(result))\n"
     ]
    },
    {
     "data": {
      "image/png": "[encoded data removed]",
      "text/plain": [
       "<Figure size 800x600 with 2 Axes>"
      ]
     },
     "metadata": {},
     "output_type": "display_data"
    }
   ],
   "source": [
    "# Train a logistic regression classifier\n",
    "clf = LogisticRegression(max_iter=1000, random_state=42)\n",
    "clf.fit(X_train, y_train)\n",
    "\n",
    "# Evaluate the model\n",
    "y_pred = clf.predict(X_test)\n",
    "accuracy = accuracy_score(y_test, y_pred)\n",
    "print(f\"\\nAccuracy: {accuracy:.4f}\")\n",
    "\n",
    "# Print detailed classification report\n",
    "print(\"\\nClassification Report:\")\n",
    "print(classification_report(y_test, y_pred, target_names=[\"Non-Cautious\", \"Cautious\"]))\n",
    "\n",
    "# Visualize the confusion matrix\n",
    "plt.figure(figsize=(8, 6))\n",
    "cm = confusion_matrix(y_test, y_pred)\n",
    "sns.heatmap(cm, annot=True, fmt='d', cmap='Blues', \n",
    "            xticklabels=[\"Non-Cautious\", \"Cautious\"],\n",
    "            yticklabels=[\"Non-Cautious\", \"Cautious\"],\n",
    "            annot_kws={\"size\": 16, \"weight\": \"bold\"})\n",
    "plt.xlabel(\"Predicted Label\", fontsize=14)\n",
    "plt.ylabel(\"True Label\", fontsize=14)\n",
    "plt.title(\"Confusion Matrix\", fontsize=16)\n",
    "\n",
    "# Increase tick label font size\n",
    "plt.xticks(fontsize=12)\n",
    "plt.yticks(fontsize=12)\n",
    "\n",
    "plt.tight_layout()\n",
    "plt.savefig(f\"../figures/confusion_matrix_{layer}_baseline.png\")\n",
    "plt.show()\n",
    "\n",
    "# #  Feature importance analysis\n",
    "# if X_train.shape[1] < 20:  # Only show importance if we have few features\n",
    "#     importance = np.abs(clf.coef_[0])\n",
    "#     feature_names = [f\"Feature {i}\" for i in range(X_train.shape[1])]\n",
    "    \n",
    "#     # Plot feature importance\n",
    "#     plt.figure(figsize=(10, 6))\n",
    "#     features_df = pd.DataFrame({'feature_names': feature_names, 'importance': importance})\n",
    "#     features_df = features_df.sort_values('importance', ascending=False)\n",
    "    \n",
    "#     sns.barplot(x='importance', y='feature_names', data=features_df[:10])  # Top 10 features\n",
    "#     plt.title('Top 10 Feature Importance for Cautious vs Non-Cautious Classification')\n",
    "#     plt.tight_layout()\n",
    "#     plt.savefig(\"../figures/feature_importance.png\")\n",
    "#     plt.show()\n",
    "# else:\n",
    "#     # If too many features, just print top 10 most important\n",
    "#     importance = np.abs(clf.coef_[0])\n",
    "#     top_indices = importance.argsort()[-10:][::-1]\n",
    "#     print(\"\\nTop 10 most important features (by coefficient magnitude):\")\n",
    "#     for i, idx in enumerate(top_indices):\n",
    "#         print(f\"Rank {i+1}: Feature {idx} (Coefficient: {clf.coef_[0][idx]:.4f})\")\n"
   ]
  },
  {
   "cell_type": "markdown",
   "metadata": {},
   "source": [
    "## Optional"
   ]
  },
  {
   "cell_type": "code",
   "execution_count": 15,
   "metadata": {},
   "outputs": [],
   "source": [
    "# # Save the trained model (optional)\n",
    "# import joblib\n",
    "# joblib.dump(clf, 'cautious_classifier.pkl')\n",
    "# print(\"\\nModel saved as 'cautious_classifier.pkl'\")\n",
    "\n"
   ]
  }
 ],
 "metadata": {
  "kernelspec": {
   "display_name": "venv",
   "language": "python",
   "name": "python3"
  },
  "language_info": {
   "codemirror_mode": {
    "name": "ipython",
    "version": 3
   },
   "file_extension": ".py",
   "mimetype": "text/x-python",
   "name": "python",
   "nbconvert_exporter": "python",
   "pygments_lexer": "ipython3",
   "version": "3.10.12"
  }
 },
 "nbformat": 4,
 "nbformat_minor": 2
}
